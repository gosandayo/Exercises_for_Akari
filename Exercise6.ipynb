{
  "nbformat": 4,
  "nbformat_minor": 0,
  "metadata": {
    "colab": {
      "provenance": [],
      "authorship_tag": "ABX9TyNH/ZiAtjH/tS8LVTCN6eIz",
      "include_colab_link": true
    },
    "kernelspec": {
      "name": "python3",
      "display_name": "Python 3"
    },
    "language_info": {
      "name": "python"
    }
  },
  "cells": [
    {
      "cell_type": "markdown",
      "metadata": {
        "id": "view-in-github",
        "colab_type": "text"
      },
      "source": [
        "<a href=\"https://colab.research.google.com/github/gosandayo/Exercises_for_Akari/blob/main/Exercise6.ipynb\" target=\"_parent\"><img src=\"https://colab.research.google.com/assets/colab-badge.svg\" alt=\"Open In Colab\"/></a>"
      ]
    },
    {
      "cell_type": "markdown",
      "source": [
        "# 6.7"
      ],
      "metadata": {
        "id": "3CeO0SQYX-KM"
      }
    },
    {
      "cell_type": "markdown",
      "source": [
        "モデルの学習（3分程度かかります）"
      ],
      "metadata": {
        "id": "sut7Bi2b3jXf"
      }
    },
    {
      "cell_type": "code",
      "source": [
        "from sklearn.datasets import make_moons\n",
        "import numpy as np\n",
        "import matplotlib.pyplot as plt\n",
        "import pandas as pd\n",
        "from sklearn.preprocessing import StandardScaler\n",
        "from sklearn.model_selection import train_test_split\n",
        "from sklearn.tree import DecisionTreeClassifier\n",
        "from sklearn.model_selection import GridSearchCV\n",
        "from sklearn.model_selection import cross_val_score\n",
        "\n",
        "\n",
        "X, y = make_moons(n_samples = 10000, noise = 0.4)\n",
        "X_train, X_test, y_train, y_test = train_test_split(X, y, test_size = 0.2, random_state = 42)\n",
        "model = DecisionTreeClassifier(random_state = 42)\n",
        "params = {\n",
        "    \"max_leaf_nodes\": list(range(2,100)),\n",
        "    \"max_depth\": list(range(1,7)),\n",
        "    \"min_samples_split\": list(range(2,7))\n",
        "}\n"
      ],
      "metadata": {
        "id": "B6eTgtLLX9sP"
      },
      "execution_count": 190,
      "outputs": []
    },
    {
      "cell_type": "code",
      "source": [
        "\n",
        "grid_search = GridSearchCV(model, params, cv = 5, scoring = \"accuracy\")\n",
        "grid_search.fit(X_train, y_train)\n",
        "param = grid_search.best_params_\n",
        "grid_search.best_estimator_"
      ],
      "metadata": {
        "id": "YJ9AwiBP68mc"
      },
      "execution_count": null,
      "outputs": []
    },
    {
      "cell_type": "code",
      "execution_count": 191,
      "metadata": {
        "colab": {
          "base_uri": "https://localhost:8080/"
        },
        "id": "WYs5lmC5X5AW",
        "outputId": "2e7fc5f1-d4b3-4090-eb85-15866df72e22"
      },
      "outputs": [
        {
          "output_type": "execute_result",
          "data": {
            "text/plain": [
              "0.8564999999999999"
            ]
          },
          "metadata": {},
          "execution_count": 191
        }
      ],
      "source": [
        "grid_search.best_score_"
      ]
    },
    {
      "cell_type": "markdown",
      "source": [
        "↑悪くない．"
      ],
      "metadata": {
        "id": "cwKODjQ-gtlO"
      }
    },
    {
      "cell_type": "markdown",
      "source": [
        "テストしてみる．"
      ],
      "metadata": {
        "id": "4tb3A3Hqgqqv"
      }
    },
    {
      "cell_type": "code",
      "source": [
        "from sklearn.metrics import accuracy_score\n",
        "\n",
        "y_pred = grid_search.predict(X_test)\n",
        "accuracy_score(y_test, y_pred)"
      ],
      "metadata": {
        "colab": {
          "base_uri": "https://localhost:8080/"
        },
        "id": "xUIE6QxSgqXx",
        "outputId": "f0c339ca-23aa-4faf-ea9d-046ecdaaa6a6"
      },
      "execution_count": 192,
      "outputs": [
        {
          "output_type": "execute_result",
          "data": {
            "text/plain": [
              "0.854"
            ]
          },
          "metadata": {},
          "execution_count": 192
        }
      ]
    },
    {
      "cell_type": "markdown",
      "source": [
        "85-87%に入ったのでよしとする．"
      ],
      "metadata": {
        "id": "XQNeV0Wng8a-"
      }
    },
    {
      "cell_type": "markdown",
      "source": [
        "# 6.8"
      ],
      "metadata": {
        "id": "JjaJDM-6h63y"
      }
    },
    {
      "cell_type": "code",
      "source": [
        "from sklearn.model_selection import ShuffleSplit\n",
        "\n",
        "n_subsets = 1000\n",
        "n_mini = 100\n",
        "mini_sets = []\n",
        "rs = ShuffleSplit(n_splits = n_subsets, test_size = len(X_train) - n_mini, random_state = 42)"
      ],
      "metadata": {
        "id": "BQhuDXK0h6ex"
      },
      "execution_count": 193,
      "outputs": []
    },
    {
      "cell_type": "code",
      "source": [
        "for mini_train_index, mini_test_index in rs.split(X_train):\n",
        "  X = X_train[mini_train_index]\n",
        "  y = y_train[mini_train_index]\n",
        "  mini_sets.append((X, y))"
      ],
      "metadata": {
        "id": "O6Khr4Ew5Vgg"
      },
      "execution_count": 194,
      "outputs": []
    },
    {
      "cell_type": "code",
      "source": [
        "accuracy_scores = []\n",
        "\n",
        "for X_tr, y_tr in mini_sets:\n",
        "  model = DecisionTreeClassifier(max_depth= param[\"max_depth\"], max_leaf_nodes= param[\"max_leaf_nodes\"], min_samples_split = param[\"min_samples_split\"], random_state = 42)\n",
        "  model.fit(X_tr, y_tr)\n",
        "  y_pred = model.predict(X_test)\n",
        "  score = accuracy_score(y_test,y_pred)\n",
        "  accuracy_scores.append(score)\n",
        "\n",
        "np.mean(accuracy_scores)\n",
        "\n"
      ],
      "metadata": {
        "colab": {
          "base_uri": "https://localhost:8080/"
        },
        "id": "z1OZTFQRqY6V",
        "outputId": "f42a44dd-090a-4a3a-df4f-318c67289c5d"
      },
      "execution_count": 195,
      "outputs": [
        {
          "output_type": "execute_result",
          "data": {
            "text/plain": [
              "0.7991095"
            ]
          },
          "metadata": {},
          "execution_count": 195
        }
      ]
    },
    {
      "cell_type": "code",
      "source": [
        "from sklearn.base import clone\n",
        "\n",
        "forest = [clone(grid_search.best_estimator_) for _ in range(n_subsets)]\n",
        "\n",
        "accuracy_scores = []\n",
        "\n",
        "for tree, (X_mini_train, y_mini_train) in zip(forest, mini_sets):\n",
        "    tree.fit(X_mini_train, y_mini_train)\n",
        "\n",
        "    y_pred = tree.predict(X_test)\n",
        "    accuracy_scores.append(accuracy_score(y_test, y_pred))\n",
        "\n",
        "np.mean(accuracy_scores)"
      ],
      "metadata": {
        "colab": {
          "base_uri": "https://localhost:8080/"
        },
        "id": "_O76DaElwkDp",
        "outputId": "cdf96649-4501-472a-d311-518116cf822d"
      },
      "execution_count": 196,
      "outputs": [
        {
          "output_type": "execute_result",
          "data": {
            "text/plain": [
              "0.7991095"
            ]
          },
          "metadata": {},
          "execution_count": 196
        }
      ]
    },
    {
      "cell_type": "markdown",
      "source": [
        "模範解答でやってもこうなりますね．\n"
      ],
      "metadata": {
        "id": "HdSqHACvw5nC"
      }
    },
    {
      "cell_type": "markdown",
      "source": [
        "さて，魔法を起こす．"
      ],
      "metadata": {
        "id": "hrG5R0V-xgBF"
      }
    },
    {
      "cell_type": "code",
      "source": [
        "from scipy import stats\n",
        "\n",
        "Y_pred = []\n",
        "\n",
        "for X_tr, y_tr in mini_sets:\n",
        "  model = DecisionTreeClassifier(max_depth= param[\"max_depth\"], max_leaf_nodes= param[\"max_leaf_nodes\"], min_samples_split = param[\"min_samples_split\"], random_state = 42)\n",
        "  model.fit(X_tr, y_tr)\n",
        "  y_pred = model.predict(X_test)\n",
        "  Y_pred.append(y_pred)\n",
        "\n",
        "y_pred_ens = stats.mode(Y_pred, axis = 0)\n",
        "y_pred_ens = y_pred_ens[0]\n",
        "accuracy_score(y_test, y_pred_ens)"
      ],
      "metadata": {
        "colab": {
          "base_uri": "https://localhost:8080/"
        },
        "id": "2Uoz7Ds1w744",
        "outputId": "b32a02c1-343f-45a5-9f2f-a50f99c60dd8"
      },
      "execution_count": 197,
      "outputs": [
        {
          "output_type": "execute_result",
          "data": {
            "text/plain": [
              "0.857"
            ]
          },
          "metadata": {},
          "execution_count": 197
        }
      ]
    },
    {
      "cell_type": "markdown",
      "source": [
        "良い感じ？"
      ],
      "metadata": {
        "id": "AVVqrRR-7TgC"
      }
    },
    {
      "cell_type": "markdown",
      "source": [
        "模範解答"
      ],
      "metadata": {
        "id": "o_oXmv440QsN"
      }
    },
    {
      "cell_type": "code",
      "source": [
        "from sklearn.model_selection import ShuffleSplit\n",
        "\n",
        "n_trees = 1000\n",
        "n_instances = 100\n",
        "\n",
        "mini_sets = []\n",
        "\n",
        "rs = ShuffleSplit(n_splits=n_trees, test_size=len(X_train) - n_instances,\n",
        "                  random_state=42)\n",
        "\n",
        "for mini_train_index, mini_test_index in rs.split(X_train):\n",
        "    X_mini_train = X_train[mini_train_index]\n",
        "    y_mini_train = y_train[mini_train_index]\n",
        "    mini_sets.append((X_mini_train, y_mini_train))"
      ],
      "metadata": {
        "id": "Uh9kdO3r0hmv"
      },
      "execution_count": 199,
      "outputs": []
    },
    {
      "cell_type": "code",
      "source": [
        "from sklearn.base import clone\n",
        "\n",
        "forest = [clone(grid_search.best_estimator_) for _ in range(n_trees)]\n",
        "\n",
        "accuracy_scores = []\n",
        "\n",
        "for tree, (X_mini_train, y_mini_train) in zip(forest, mini_sets):\n",
        "    tree.fit(X_mini_train, y_mini_train)\n",
        "\n",
        "    y_pred = tree.predict(X_test)\n",
        "    accuracy_scores.append(accuracy_score(y_test, y_pred))\n",
        "\n",
        "np.mean(accuracy_scores)"
      ],
      "metadata": {
        "colab": {
          "base_uri": "https://localhost:8080/"
        },
        "id": "M2L5BRkw0kSZ",
        "outputId": "9f62d239-f02b-4a4b-9c67-56f569f2df8c"
      },
      "execution_count": 200,
      "outputs": [
        {
          "output_type": "execute_result",
          "data": {
            "text/plain": [
              "0.7991095"
            ]
          },
          "metadata": {},
          "execution_count": 200
        }
      ]
    },
    {
      "cell_type": "code",
      "source": [
        "Y_pred = np.empty([n_subsets, len(X_test)], dtype=np.uint8)\n",
        "\n",
        "for tree_index, tree in enumerate(forest):\n",
        "    Y_pred[tree_index] = tree.predict(X_test)\n",
        "\n",
        "from scipy.stats import mode\n",
        "\n",
        "y_pred_majority_votes, n_votes = mode(Y_pred, axis=0)\n",
        "\n",
        "accuracy_score(y_test, y_pred_majority_votes.reshape([-1]))"
      ],
      "metadata": {
        "colab": {
          "base_uri": "https://localhost:8080/"
        },
        "id": "GwNcH-bZ0QFM",
        "outputId": "52654646-8304-4229-a07d-fcf229f3134d"
      },
      "execution_count": 201,
      "outputs": [
        {
          "output_type": "execute_result",
          "data": {
            "text/plain": [
              "0.857"
            ]
          },
          "metadata": {},
          "execution_count": 201
        }
      ]
    }
  ]
}